{
 "cells": [
  {
   "cell_type": "raw",
   "id": "084e0868-67a0-4fba-aee2-80b33020c137",
   "metadata": {},
   "source": [
    "conda env list"
   ]
  },
  {
   "cell_type": "raw",
   "id": "10f7355a-9613-4160-a2f1-695dde91b9df",
   "metadata": {},
   "source": [
    "conda --version"
   ]
  },
  {
   "cell_type": "raw",
   "id": "9458b2d4-645f-46bc-9c14-0f0e7daf5182",
   "metadata": {},
   "source": [
    "python --version"
   ]
  },
  {
   "cell_type": "raw",
   "id": "8745dfac-afc9-4589-9614-a44e8f29e56c",
   "metadata": {},
   "source": [
    "conda update conda"
   ]
  },
  {
   "cell_type": "raw",
   "id": "8f34b28d-5862-4317-83d0-fa8e0935f292",
   "metadata": {},
   "source": [
    "conda create -n py311 python=3.11"
   ]
  },
  {
   "cell_type": "code",
   "execution_count": null,
   "id": "a82e9270-7d7d-4875-9618-dfaa98fa3e70",
   "metadata": {},
   "outputs": [],
   "source": [
    "conda activate py311"
   ]
  },
  {
   "cell_type": "code",
   "execution_count": null,
   "id": "4ff515fe-4b0e-4851-b581-be5e5466cc98",
   "metadata": {},
   "outputs": [],
   "source": [
    "pip freeze > lib_list.txt"
   ]
  },
  {
   "cell_type": "code",
   "execution_count": null,
   "id": "5c97cb89-4021-4b8d-9bb6-245456729edc",
   "metadata": {},
   "outputs": [],
   "source": [
    "pip install -r lib_list.txt"
   ]
  }
 ],
 "metadata": {
  "kernelspec": {
   "display_name": "Python 3 (ipykernel)",
   "language": "python",
   "name": "python3"
  },
  "language_info": {
   "codemirror_mode": {
    "name": "ipython",
    "version": 3
   },
   "file_extension": ".py",
   "mimetype": "text/x-python",
   "name": "python",
   "nbconvert_exporter": "python",
   "pygments_lexer": "ipython3",
   "version": "3.11.5"
  }
 },
 "nbformat": 4,
 "nbformat_minor": 5
}
